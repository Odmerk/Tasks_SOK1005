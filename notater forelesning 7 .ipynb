{
 "cells": [
  {
   "cell_type": "markdown",
   "id": "658a03f1-8044-46d8-b982-4e8bd60ec340",
   "metadata": {
    "tags": []
   },
   "source": [
    "# SOK-1006 V25\n",
    "\n",
    "## Forelesning 7 - Velferdseffekter av økonomisk politikk under fullkommen konkurranse (Kap 9)"
   ]
  },
  {
   "cell_type": "markdown",
   "id": "034e14b1-36c9-41c9-bc08-ef8ec3582096",
   "metadata": {},
   "source": [
    "#### 1. Forutsetninger for fullkommen konkurranse\n",
    "\n",
    "- Det omsettes private goder i markedet uten eksterne virkninger.\n",
    "- Det er et stort antall tilbydere og etterspørere, og ingen kan påvirke prisen.\n",
    "- Produsenter fremstiller identiske produkter. Konsumenten er likegyldig hvem de kjøper hos.\n",
    "- Aktørene i markedet er økonomisk rasjonelle (maksimering av fortjeneste og nytte).\n",
    "- Full informasjon.\n",
    "- Prisen er bestemt i samspill mellom tilbud og etterspørsel.\n",
    "- Markedsdeltakere kan fritt gå inn eller ut av markedet.\n"
   ]
  },
  {
   "cell_type": "markdown",
   "id": "4e8c16c2-69be-4072-af0d-2cc9818de994",
   "metadata": {},
   "source": [
    "#### 2. Likevekt under fullkommen konkurranse\n",
    "\n",
    "Vi setter opp tilbud og etterspørsel, finner likevekten, og tegner likevekten i en figur. Dette er likevekt under fullkommen konkurranse, og dette har vi sett på før.\n"
   ]
  },
  {
   "cell_type": "code",
   "execution_count": 284,
   "id": "ee8e2cee-48f4-44e9-b6cf-0fa124c74076",
   "metadata": {},
   "outputs": [],
   "source": [
    "import sympy as sp\n",
    "import numpy as np\n",
    "from matplotlib import pyplot as plt"
   ]
  },
  {
   "cell_type": "markdown",
   "id": "46b1d8f2-094c-4f93-beee-afffd3e7b237",
   "metadata": {},
   "source": [
    "La oss tegne inn likevektspris og -kvantum."
   ]
  },
  {
   "cell_type": "markdown",
   "id": "ec84c451",
   "metadata": {},
   "source": [
    "*Oppgave*           \n",
    "\n",
    "*Her er etterspørsel og tilbud med en stykkavgift ($t$) som er pålagt selgere av produktet ($a,b,A,B>0$):*\n",
    "\n",
    "$$\n",
    "   x^{D}= a - b p\n",
    "$$\n",
    "\n",
    "\n",
    "$$\n",
    "   x^{S}= -A + B (p-t)\n",
    "$$\n",
    "\n",
    "*(a) Bruk SymPy til å beregne likevektspris- og kvantum som en funksjon av $t$.*       \n",
    "*(b) Finn et uttrykk for konsument-, produsent-, og samfunnsøkonomisk overskudd med $t=0$.*                \n",
    "*(c) Beregn KO, PO og SO for $t>0$, samt endringen fra situasjonen før avgiften ble innført.*          \n",
    "*(d) Hvor mye endres KO, PO og SO pga innføring av avgiften, og hvordan avhenger dette av $a,b,A,B$?*                   \n",
    "*(e) Forklar intuisjonen bak dine resultater.* "
   ]
  },
  {
   "cell_type": "code",
   "execution_count": 285,
   "id": "ed92a159",
   "metadata": {},
   "outputs": [],
   "source": [
    "#Har definert tilbud og etterspørsel to ganger, en med symbolske utrykk for a svare på oppgavene og en med numeriske tall, slik at jeg kan se om jeg har svart riktig.\n",
    "a, b, p, t, A, B = sp.symbols('a b p t A B', real=True, positive=True)\n",
    "def e_x_2(a, b, p):\n",
    "    return a - b*p\n",
    "def t_x(A, B, p,t):\n",
    "    return - A + B*(p-t)\n",
    "def e_x_2_v(p):\n",
    "    return 100-0.5*p\n",
    "def t_x_v(p,t):\n",
    "    return 0 + 0.7*(p-t)\n"
   ]
  },
  {
   "cell_type": "code",
   "execution_count": 286,
   "id": "bf1b1a96",
   "metadata": {},
   "outputs": [
    {
     "data": {
      "text/latex": [
       "$\\displaystyle a - b p = - A + B p$"
      ],
      "text/plain": [
       "Eq(a - b*p, -A + B*p)"
      ]
     },
     "metadata": {},
     "output_type": "display_data"
    },
    {
     "data": {
      "text/latex": [
       "$\\displaystyle 100 - 0.5 p = 0.7 p$"
      ],
      "text/plain": [
       "Eq(100 - 0.5*p, 0.7*p)"
      ]
     },
     "metadata": {},
     "output_type": "display_data"
    }
   ],
   "source": [
    "\n",
    "\n",
    "equ_t = sp.Eq(e_x_2(a, b, p), t_x(A, B, p, 0))\n",
    "equ_t_v = sp.Eq(e_x_2_v(p), t_x_v( p, 0))\n",
    "display(equ_t)\n",
    "display(equ_t_v)"
   ]
  },
  {
   "cell_type": "code",
   "execution_count": 287,
   "id": "61dca284",
   "metadata": {},
   "outputs": [
    {
     "data": {
      "text/latex": [
       "$\\displaystyle \\frac{A + a}{B + b}$"
      ],
      "text/plain": [
       "(A + a)/(B + b)"
      ]
     },
     "metadata": {},
     "output_type": "display_data"
    },
    {
     "data": {
      "text/latex": [
       "$\\displaystyle 83.3333333333333$"
      ],
      "text/plain": [
       "83.3333333333333"
      ]
     },
     "metadata": {},
     "output_type": "display_data"
    }
   ],
   "source": [
    "#finner først likevektsprisene for pris og kvantum\n",
    "e_sol = sp.solve(equ_t, p)\n",
    "e_sol_v = sp.solve(equ_t_v, p)\n",
    "display(e_sol[0])\n",
    "display(e_sol_v[0])\n"
   ]
  },
  {
   "cell_type": "code",
   "execution_count": 288,
   "id": "1f83f5ac",
   "metadata": {},
   "outputs": [
    {
     "data": {
      "text/latex": [
       "$\\displaystyle a - \\frac{b \\left(A + a\\right)}{B + b}$"
      ],
      "text/plain": [
       "a - b*(A + a)/(B + b)"
      ]
     },
     "metadata": {},
     "output_type": "display_data"
    },
    {
     "data": {
      "text/latex": [
       "$\\displaystyle 58.3333333333333$"
      ],
      "text/plain": [
       "58.3333333333333"
      ]
     },
     "metadata": {},
     "output_type": "display_data"
    }
   ],
   "source": [
    "p_sol = e_x_2(a,b, e_sol[0])\n",
    "p_sol_v = e_x_2_v( e_sol_v[0])\n",
    "display(p_sol)\n",
    "display(p_sol_v)"
   ]
  },
  {
   "cell_type": "code",
   "execution_count": 289,
   "id": "263cb2f8",
   "metadata": {},
   "outputs": [
    {
     "data": {
      "text/latex": [
       "$\\displaystyle - \\frac{B \\left(A + a\\right)^{2}}{2 \\left(B + b\\right)^{2}} + \\frac{\\left(A + a\\right) \\left(A B + B a\\right)}{\\left(B + b\\right)^{2}}$"
      ],
      "text/plain": [
       "-B*(A + a)**2/(2*(B + b)**2) + (A + a)*(A*B + B*a)/(B + b)**2"
      ]
     },
     "metadata": {},
     "output_type": "display_data"
    },
    {
     "data": {
      "text/latex": [
       "$\\displaystyle 2430.55555555556$"
      ],
      "text/plain": [
       "2430.55555555556"
      ]
     },
     "metadata": {},
     "output_type": "display_data"
    }
   ],
   "source": [
    "#Bruker integrate for å finne produsentoverskudd\n",
    "producer_surplus_2 = sp.integrate(p_sol - t_x(A, B, p, 0), (p, 0, e_sol)) \n",
    "producer_surplus_2_v = sp.integrate(p_sol_v - t_x_v(p, 0), (p, 0, e_sol_v))\n",
    "display(producer_surplus_2)\n",
    "display(producer_surplus_2_v)"
   ]
  },
  {
   "cell_type": "code",
   "execution_count": 290,
   "id": "29722fc9",
   "metadata": {},
   "outputs": [
    {
     "data": {
      "text/latex": [
       "$\\displaystyle - \\frac{b \\left(A + a\\right)^{2}}{2 \\left(B + b\\right)^{2}} + \\frac{\\left(A + a\\right) \\left(A b + a b\\right)}{\\left(B + b\\right)^{2}}$"
      ],
      "text/plain": [
       "-b*(A + a)**2/(2*(B + b)**2) + (A + a)*(A*b + a*b)/(B + b)**2"
      ]
     },
     "metadata": {},
     "output_type": "display_data"
    },
    {
     "data": {
      "text/latex": [
       "$\\displaystyle 1736.11111111111$"
      ],
      "text/plain": [
       "1736.11111111111"
      ]
     },
     "metadata": {},
     "output_type": "display_data"
    }
   ],
   "source": [
    "# Samme med konsumentoverskudd\n",
    "consumer_surplus_2=sp.integrate(e_x_2(a,b,p)-p_sol,(p,0,e_sol))\n",
    "consumer_surplus_2_v=sp.integrate(e_x_2_v(p)-p_sol_v,(p,0,e_sol_v))\n",
    "display(consumer_surplus_2)\n",
    "display(consumer_surplus_2_v)"
   ]
  },
  {
   "cell_type": "code",
   "execution_count": 291,
   "id": "c689a386",
   "metadata": {},
   "outputs": [
    {
     "data": {
      "text/latex": [
       "$\\displaystyle \\frac{\\left(A + a\\right)^{2} \\left(- \\frac{B}{2} - \\frac{b}{2}\\right)}{\\left(B + b\\right)^{2}} + \\frac{\\left(A + a\\right)^{2}}{B + b}$"
      ],
      "text/plain": [
       "(A + a)**2*(-B/2 - b/2)/(B + b)**2 + (A + a)**2/(B + b)"
      ]
     },
     "metadata": {},
     "output_type": "display_data"
    },
    {
     "data": {
      "text/latex": [
       "$\\displaystyle 4166.66666666667$"
      ],
      "text/plain": [
       "4166.66666666667"
      ]
     },
     "metadata": {},
     "output_type": "display_data"
    }
   ],
   "source": [
    "#Tilslutt samfunnsøkonomisk overskudd, som vi kan se er riktig fordi den numeriske urtregnignen gir menining\n",
    "welfare_surplus_2=sp.integrate(e_x_2(a,b,p)-t_x(A,B,p,0),(p,0,e_sol))\n",
    "welfare_surplus_2_v=sp.integrate(e_x_2_v(p)-t_x_v(p,0),(p,0,e_sol_v))\n",
    "display(welfare_surplus_2)\n",
    "display(welfare_surplus_2_v)"
   ]
  },
  {
   "cell_type": "code",
   "execution_count": 292,
   "id": "48b4c9e2",
   "metadata": {},
   "outputs": [
    {
     "data": {
      "text/latex": [
       "$\\displaystyle \\frac{B t^{2}}{2} - \\frac{B \\left(A + a\\right)^{2}}{2 \\left(B + b\\right)^{2}} - \\frac{t \\left(A B + B^{2} t + B a + B b t\\right)}{B + b} + \\frac{\\left(A + a\\right) \\left(A B + B^{2} t + B a + B b t\\right)}{\\left(B + b\\right)^{2}}$"
      ],
      "text/plain": [
       "B*t**2/2 - B*(A + a)**2/(2*(B + b)**2) - t*(A*B + B**2*t + B*a + B*b*t)/(B + b) + (A + a)*(A*B + B**2*t + B*a + B*b*t)/(B + b)**2"
      ]
     },
     "metadata": {},
     "output_type": "display_data"
    },
    {
     "data": {
      "text/latex": [
       "$\\displaystyle \\frac{b t^{2}}{2} - \\frac{b \\left(A + a\\right)^{2}}{2 \\left(B + b\\right)^{2}} - \\frac{t \\left(A b + a b\\right)}{B + b} + \\frac{\\left(A + a\\right) \\left(A b + a b\\right)}{\\left(B + b\\right)^{2}}$"
      ],
      "text/plain": [
       "b*t**2/2 - b*(A + a)**2/(2*(B + b)**2) - t*(A*b + a*b)/(B + b) + (A + a)*(A*b + a*b)/(B + b)**2"
      ]
     },
     "metadata": {},
     "output_type": "display_data"
    },
    {
     "data": {
      "text/latex": [
       "$\\displaystyle - t^{2} \\left(- \\frac{B}{2} - \\frac{b}{2}\\right) - t \\left(A + B t + a\\right) + \\frac{\\left(A + a\\right)^{2} \\left(- \\frac{B}{2} - \\frac{b}{2}\\right)}{\\left(B + b\\right)^{2}} + \\frac{\\left(A + a\\right) \\left(A + B t + a\\right)}{B + b}$"
      ],
      "text/plain": [
       "-t**2*(-B/2 - b/2) - t*(A + B*t + a) + (A + a)**2*(-B/2 - b/2)/(B + b)**2 + (A + a)*(A + B*t + a)/(B + b)"
      ]
     },
     "metadata": {},
     "output_type": "display_data"
    },
    {
     "data": {
      "text/latex": [
       "$\\displaystyle 2395.55555555556$"
      ],
      "text/plain": [
       "2395.55555555556"
      ]
     },
     "metadata": {},
     "output_type": "display_data"
    },
    {
     "data": {
      "text/latex": [
       "$\\displaystyle 1344.44444444444$"
      ],
      "text/plain": [
       "1344.44444444444"
      ]
     },
     "metadata": {},
     "output_type": "display_data"
    },
    {
     "data": {
      "text/latex": [
       "$\\displaystyle 3740.0$"
      ],
      "text/plain": [
       "3740.00000000000"
      ]
     },
     "metadata": {},
     "output_type": "display_data"
    }
   ],
   "source": [
    "#Her regner jeg ut overskuddene der t > 0, jeg har hørt at man ikke trenger integrate for å løse denne oppgaven, men jeg vet ikke hvordan, men de numeriske verdien vikrer riktig\n",
    "#jeg tror ikke måten jeg gjør det på er galt, men er ikke helt sikker :(\n",
    "producer_surplus_2_t = sp.integrate(p_sol - t_x(A, B, p, t), (p, t, e_sol)) \n",
    "consumer_surplus_2_t=sp.integrate(e_x_2(a,b,p)-p_sol,(p,t,e_sol))\n",
    "welfare_surplus_2_t=sp.integrate(e_x_2(a,b,p)-t_x(A,B,p,t),(p,t,e_sol))\n",
    "display(producer_surplus_2_t)\n",
    "display(consumer_surplus_2_t)\n",
    "display(welfare_surplus_2_t)\n",
    "producer_surplus_2_t_v = sp.integrate(p_sol_v - t_x_v(p, 10), (p, 10, e_sol_v)) \n",
    "consumer_surplus_2_t_v=sp.integrate(e_x_2_v(p)-p_sol_v,(p,10,e_sol_v))\n",
    "welfare_surplus_2_t_v=sp.integrate(e_x_2_v(p)-t_x_v(p,10),(p,10,e_sol_v))\n",
    "display(producer_surplus_2_t_v)\n",
    "display(consumer_surplus_2_t_v)\n",
    "display(welfare_surplus_2_t_v)\n"
   ]
  },
  {
   "cell_type": "code",
   "execution_count": 293,
   "id": "c7c1dd68",
   "metadata": {},
   "outputs": [
    {
     "data": {
      "text/latex": [
       "$\\displaystyle \\frac{B t^{2}}{2}$"
      ],
      "text/plain": [
       "B*t**2/2"
      ]
     },
     "metadata": {},
     "output_type": "display_data"
    },
    {
     "data": {
      "text/latex": [
       "$\\displaystyle - \\frac{b t \\left(- 2 A + B t - 2 a + b t\\right)}{2 \\left(B + b\\right)}$"
      ],
      "text/plain": [
       "-b*t*(-2*A + B*t - 2*a + b*t)/(2*(B + b))"
      ]
     },
     "metadata": {},
     "output_type": "display_data"
    },
    {
     "data": {
      "text/latex": [
       "$\\displaystyle - \\frac{t \\left(- 2 A b - B^{2} t - 2 a b + b^{2} t\\right)}{2 \\left(B + b\\right)}$"
      ],
      "text/plain": [
       "-t*(-2*A*b - B**2*t - 2*a*b + b**2*t)/(2*(B + b))"
      ]
     },
     "metadata": {},
     "output_type": "display_data"
    },
    {
     "data": {
      "text/latex": [
       "$\\displaystyle 34.9999999999995$"
      ],
      "text/plain": [
       "34.9999999999995"
      ]
     },
     "metadata": {},
     "output_type": "display_data"
    },
    {
     "data": {
      "text/latex": [
       "$\\displaystyle 391.666666666667$"
      ],
      "text/plain": [
       "391.666666666667"
      ]
     },
     "metadata": {},
     "output_type": "display_data"
    },
    {
     "data": {
      "text/latex": [
       "$\\displaystyle 426.666666666666$"
      ],
      "text/plain": [
       "426.666666666666"
      ]
     },
     "metadata": {},
     "output_type": "display_data"
    }
   ],
   "source": [
    "#Tilsutt bruker jeg factor for å finne ut hvor mye verdiene har endret seg.\n",
    "consumer_change = consumer_surplus_2 - consumer_surplus_2_t\n",
    "producer_change = producer_surplus_2 - producer_surplus_2_t\n",
    "welfare_change = welfare_surplus_2 - welfare_surplus_2_t\n",
    "consumer_change_v = consumer_surplus_2_v - consumer_surplus_2_t_v\n",
    "producer_change_v = producer_surplus_2_v - producer_surplus_2_t_v\n",
    "welfare_change_v = welfare_surplus_2_v - welfare_surplus_2_t_v\n",
    "\n",
    "display(sp.factor(producer_change))\n",
    "display(sp.factor(consumer_change))\n",
    "display(sp.factor(welfare_change))\n",
    "display(sp.factor(producer_change_v))\n",
    "display(sp.factor(consumer_change_v))\n",
    "display(sp.factor(welfare_change_v))"
   ]
  },
  {
   "cell_type": "markdown",
   "id": "d475e8b5",
   "metadata": {},
   "source": [
    "Det endringen sier oss er at det er genrelt er at a og A bestemmer den maksimale prodiskjons og betalingvilligheten, mens b,B påvirker elastistieten. Jo større b,B jo flatere blir tilbud og etterspørselskurven, og dermed blir også påvirnknigen av endringen i tilbud enda større. Grafen under viser hvordan avgiften påvirker tilbudet og skifter likevekten."
   ]
  },
  {
   "attachments": {
    "image.png": {
     "image/png": "[encoded data removed]"
    }
   },
   "cell_type": "markdown",
   "id": "f19d1a5e",
   "metadata": {},
   "source": [
    "![image.png](attachment:image.png)"
   ]
  },
  {
   "cell_type": "markdown",
   "id": "cd7f8fba",
   "metadata": {},
   "source": [
    "Som vi kan se fra denne tegningen jeg har laget i powerpoint, fører en økining i stykkpris til et høyreskifte i tilbudskurve, noe som betyr høyere priser på varer og dermed redusert etterspørsel. Likevektspunktet flytter seg ned på grafen som gir ett redusert produsent overskudd og gir økte skatteinntekter. Samtidig kan se i den lila trekanten, at en innføring av stykkpris skaper et samfunnsøkonomisk effektivetetstap, som betyr at samfunnet som en helhet ikke har optimal ytelse. "
   ]
  }
 ],
 "metadata": {
  "kernelspec": {
   "display_name": "Python 3",
   "language": "python",
   "name": "python3"
  },
  "language_info": {
   "codemirror_mode": {
    "name": "ipython",
    "version": 3
   },
   "file_extension": ".py",
   "mimetype": "text/x-python",
   "name": "python",
   "nbconvert_exporter": "python",
   "pygments_lexer": "ipython3",
   "version": "3.12.5"
  }
 },
 "nbformat": 4,
 "nbformat_minor": 5
}
